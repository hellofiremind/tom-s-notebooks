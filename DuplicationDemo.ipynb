{
 "cells": [
  {
   "cell_type": "code",
   "execution_count": 144,
   "id": "5b68e44f-9ebd-4f1f-b5a1-e29e0454197b",
   "metadata": {
    "tags": []
   },
   "outputs": [
    {
     "data": {
      "application/vnd.jupyter.widget-view+json": {
       "model_id": "66ef66c1d5604df3992e8d984801855b",
       "version_major": 2,
       "version_minor": 0
      },
      "text/plain": [
       "Tab(children=(Output(layout=Layout(max_height='600px', max_width='940px', overflow='scroll')), Output(layout=L…"
      ]
     },
     "metadata": {},
     "output_type": "display_data"
    }
   ],
   "source": [
    "%%gremlin\n",
    "// Remove all vertices and their edges\n",
    "g.E().drop().iterate()"
   ]
  },
  {
   "cell_type": "markdown",
   "id": "dfeb7839-eb6c-4888-bf13-cc3ba0962210",
   "metadata": {},
   "source": [
    "### Load dummy data\n",
    "Add vertex with *customer* label, *customer_id* property and property value *9876*."
   ]
  },
  {
   "cell_type": "code",
   "execution_count": 145,
   "id": "4acd887c-ccc1-4eaf-8dd8-fea694e2cff3",
   "metadata": {
    "tags": []
   },
   "outputs": [
    {
     "data": {
      "application/vnd.jupyter.widget-view+json": {
       "model_id": "62d74bdf90a74d7e818d42be0062e8c1",
       "version_major": 2,
       "version_minor": 0
      },
      "text/plain": [
       "Tab(children=(Output(layout=Layout(max_height='600px', max_width='940px', overflow='scroll')), Output(layout=L…"
      ]
     },
     "metadata": {},
     "output_type": "display_data"
    }
   ],
   "source": [
    "%%gremlin\n",
    "g.addV('customer').property('customer_id', '9876')"
   ]
  },
  {
   "cell_type": "markdown",
   "id": "1b791d94-5db1-4907-926d-ed0b68b11177",
   "metadata": {},
   "source": [
    "Add vertex with *address* label, *postcode* property and property value *ME15 6JQ*."
   ]
  },
  {
   "cell_type": "code",
   "execution_count": 146,
   "id": "db13fa63-6954-4ff3-8c71-fb3529e617ac",
   "metadata": {
    "tags": []
   },
   "outputs": [
    {
     "data": {
      "application/vnd.jupyter.widget-view+json": {
       "model_id": "3e846d94a32d472aa6a2913688035bb8",
       "version_major": 2,
       "version_minor": 0
      },
      "text/plain": [
       "Tab(children=(Output(layout=Layout(max_height='600px', max_width='940px', overflow='scroll')), Output(layout=L…"
      ]
     },
     "metadata": {},
     "output_type": "display_data"
    }
   ],
   "source": [
    "%%gremlin\n",
    "g.addV('address').property('postcode', 'ME15 6JQ')"
   ]
  },
  {
   "cell_type": "markdown",
   "id": "80c9f38e-05ad-4e26-ae6f-a356818d9d65",
   "metadata": {},
   "source": [
    "Add edge called *lives_at* to make a connection from the *customer* vertex to the *address* vertex."
   ]
  },
  {
   "cell_type": "code",
   "execution_count": 147,
   "id": "1454ef96-6c95-44f3-92c4-f3552356c9e5",
   "metadata": {
    "tags": []
   },
   "outputs": [
    {
     "data": {
      "application/vnd.jupyter.widget-view+json": {
       "model_id": "0c90e44fa28f45beb14507fc051dd2d4",
       "version_major": 2,
       "version_minor": 0
      },
      "text/plain": [
       "Tab(children=(Output(layout=Layout(max_height='600px', max_width='940px', overflow='scroll')), Output(layout=L…"
      ]
     },
     "metadata": {},
     "output_type": "display_data"
    }
   ],
   "source": [
    "%%gremlin\n",
    "g.V().has('customer', 'customer_id', '9876').addE('lives_at').to(__.V().has('address', 'postcode', 'ME15 6JQ'))"
   ]
  },
  {
   "cell_type": "markdown",
   "id": "f3b1f832-4b13-4826-9fdf-8995fb9e94cf",
   "metadata": {},
   "source": [
    "Show the resulting two vertices and edge."
   ]
  },
  {
   "cell_type": "code",
   "execution_count": 148,
   "id": "858ae939-0e43-4b5c-b477-8ac3ae172830",
   "metadata": {
    "tags": []
   },
   "outputs": [
    {
     "data": {
      "application/vnd.jupyter.widget-view+json": {
       "model_id": "b13a5c8a291a47278fc5d09f6ab4db00",
       "version_major": 2,
       "version_minor": 0
      },
      "text/plain": [
       "Tab(children=(Output(layout=Layout(max_height='600px', max_width='940px', overflow='scroll')), Force(network=<…"
      ]
     },
     "metadata": {},
     "output_type": "display_data"
    }
   ],
   "source": [
    "%%gremlin\n",
    "g.E().hasLabel('lives_at').elementMap().toList()"
   ]
  },
  {
   "cell_type": "markdown",
   "id": "917be394-8991-40ae-a2f8-c350cf9ca1f3",
   "metadata": {},
   "source": [
    "### Postcode does not exist\n",
    "\n",
    "This first checks to see if `vertex=('address','postcode','TN25 6AW')` exists, it does not and therefore is added, along with a corresponding `customer` vertex and a `lives_at` edge that connects the two new vertices."
   ]
  },
  {
   "cell_type": "code",
   "execution_count": 149,
   "id": "d8aea4fa-cb31-49fb-93a9-ec20a29918e4",
   "metadata": {
    "tags": []
   },
   "outputs": [
    {
     "data": {
      "application/vnd.jupyter.widget-view+json": {
       "model_id": "05faa1c8f7764a988e6f70458cb2667b",
       "version_major": 2,
       "version_minor": 0
      },
      "text/plain": [
       "Tab(children=(Output(layout=Layout(max_height='600px', max_width='940px', overflow='scroll')), Output(layout=L…"
      ]
     },
     "metadata": {},
     "output_type": "display_data"
    }
   ],
   "source": [
    "%%gremlin\n",
    "g.V().has('address','postcode','GJ56 9BV').fold().\n",
    "  coalesce(unfold(),\n",
    "    addV('address').\n",
    "      property('postcode','GJ56 9BV')).as('p').\n",
    "    addV('customer').\n",
    "      property('customer_id', '4321').\n",
    "    addE('lives_at').to('p').next()\n",
    "    \n",
    "    //# could change last line to include .from()"
   ]
  },
  {
   "cell_type": "markdown",
   "id": "66552e30-6a73-4e4e-b8b5-065bd9f02a6b",
   "metadata": {},
   "source": [
    "Show the resulting two vertices and edge - there are now four vertices and two edges."
   ]
  },
  {
   "cell_type": "code",
   "execution_count": 150,
   "id": "fc6e8654-b62b-49db-9b82-abcb085d5bf5",
   "metadata": {
    "tags": []
   },
   "outputs": [
    {
     "data": {
      "application/vnd.jupyter.widget-view+json": {
       "model_id": "6d23a30da98d417f9e29d6c73de5b5b2",
       "version_major": 2,
       "version_minor": 0
      },
      "text/plain": [
       "Tab(children=(Output(layout=Layout(max_height='600px', max_width='940px', overflow='scroll')), Force(network=<…"
      ]
     },
     "metadata": {},
     "output_type": "display_data"
    }
   ],
   "source": [
    "%%gremlin\n",
    "g.E().hasLabel('lives_at').elementMap().toList()"
   ]
  },
  {
   "cell_type": "markdown",
   "id": "2daae62e-a187-47fd-a76d-fd72246948f2",
   "metadata": {},
   "source": [
    "### Postcode does exist"
   ]
  },
  {
   "cell_type": "markdown",
   "id": "e942ee8c-0bd5-4a88-b6f0-c05db2e84000",
   "metadata": {},
   "source": [
    "Gets count of `('address','postcode','ME15 6JQ')` vertex, if count is greater than zero - i.e. if that vertex exists - then `('customer,''customer_id','9797')` vertex is added and stored as `'c'`. The `('address','postcode','ME15 6JQ')` vertex is then stored as `'a'` and an edge - `lives_at` - is added to connect the two vertices."
   ]
  },
  {
   "cell_type": "code",
   "execution_count": 151,
   "id": "adc551bf-5cd7-4aa1-8a6c-919742d419d3",
   "metadata": {
    "tags": []
   },
   "outputs": [
    {
     "data": {
      "application/vnd.jupyter.widget-view+json": {
       "model_id": "6d3ec2034de64bf59a8f7dba57b61dde",
       "version_major": 2,
       "version_minor": 0
      },
      "text/plain": [
       "Tab(children=(Output(layout=Layout(max_height='600px', max_width='940px', overflow='scroll')), Output(layout=L…"
      ]
     },
     "metadata": {},
     "output_type": "display_data"
    }
   ],
   "source": [
    "%%gremlin\n",
    "g.V().has('address','postcode','ME15 6JQ').count().choose(is(gt(0)),\n",
    "  addV('customer').\n",
    "    property('customer_id','9797')).as('c').\n",
    "  V().has('address','postcode','ME15 6JQ').as('a').\n",
    "    addE('lives_at').from('c').to('a')"
   ]
  },
  {
   "cell_type": "markdown",
   "id": "13a177fb-8e58-4a65-88c4-1f42c0c64a35",
   "metadata": {},
   "source": [
    "- Show the resulting two vertices and edge - there are now five vertices and three edges.\n",
    "- The vertex with *ME15 6JQ* as the postcode now has an additional customer vertex (`customer_id=9797`) connected to it with a `lives_at` edge.\n",
    "- The *ME15 6JQ* postcode vertex is therefore not duplicated."
   ]
  },
  {
   "cell_type": "code",
   "execution_count": 152,
   "id": "b0ec2a39-d980-4ee2-9459-1020f551f264",
   "metadata": {
    "tags": []
   },
   "outputs": [
    {
     "data": {
      "application/vnd.jupyter.widget-view+json": {
       "model_id": "ef099aabdeef462d8b4f4bc1dfc88ef7",
       "version_major": 2,
       "version_minor": 0
      },
      "text/plain": [
       "Tab(children=(Output(layout=Layout(max_height='600px', max_width='940px', overflow='scroll')), Force(network=<…"
      ]
     },
     "metadata": {},
     "output_type": "display_data"
    }
   ],
   "source": [
    "%%gremlin\n",
    "g.E().hasLabel('lives_at').elementMap().toList()"
   ]
  }
 ],
 "metadata": {
  "kernelspec": {
   "display_name": "Python 3",
   "language": "python",
   "name": "python3"
  },
  "language_info": {
   "codemirror_mode": {
    "name": "ipython",
    "version": 3
   },
   "file_extension": ".py",
   "mimetype": "text/x-python",
   "name": "python",
   "nbconvert_exporter": "python",
   "pygments_lexer": "ipython3",
   "version": "3.7.12"
  }
 },
 "nbformat": 4,
 "nbformat_minor": 5
}
