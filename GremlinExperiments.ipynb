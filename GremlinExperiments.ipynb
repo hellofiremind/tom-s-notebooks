{
 "cells": [
  {
   "cell_type": "code",
   "execution_count": null,
   "id": "c3f5ccc2-d48e-4a9d-8514-85f79bdc66bf",
   "metadata": {},
   "outputs": [],
   "source": [
    "%%gremlin -p v,oute,inv\n",
    "g.V().hasLabel('Time').path().limit(5)"
   ]
  },
  {
   "cell_type": "code",
   "execution_count": 117,
   "id": "7c5bd28f-8471-44eb-93b3-894447548dc7",
   "metadata": {},
   "outputs": [
    {
     "name": "stdout",
     "output_type": "stream",
     "text": [
      "{\n",
      "    \"status\" : \"200 OK\",\n",
      "    \"payload\" : {\n",
      "        \"loadId\" : \"9d740193-62bf-4333-bd8f-601d18441ff4\"\n",
      "    }\n",
      "}"
     ]
    }
   ],
   "source": [
    "!curl -X POST -H 'Content-Type: application/json' -k https://toms-neptune-test.cluster-csmc1p9pczxm.eu-west-1.neptune.amazonaws.com:8182/loader -d \\\n",
    "'{ \"source\" : \"s3://toms-neptune-tests/auction.csv\", \"format\" : \"csv\", \"iamRoleArn\" : \"arn:aws:iam::651762338902:role/toms-test\", \"region\" : \"eu-west-1\", \"failOnError\" : \"FALSE\", \"parallelism\" : \"MEDIUM\", \"updateSingleCardinalityProperties\" : \"FALSE\",\"queueRequest\" : \"TRUE\"}'\n"
   ]
  },
  {
   "cell_type": "code",
   "execution_count": 84,
   "id": "c457cca8-cfe3-4f42-90ed-4eae63e7c638",
   "metadata": {},
   "outputs": [
    {
     "name": "stdout",
     "output_type": "stream",
     "text": [
      "{\n",
      "    \"status\" : \"200 OK\",\n",
      "    \"payload\" : {\n",
      "        \"token\" : \"aac2f207-2d82-da7a-c0a6-3c28372b585b\"\n",
      "    }\n",
      "}"
     ]
    }
   ],
   "source": [
    "!curl -X POST -H 'Content-Type: application/json' -k https://toms-neptune-test.cluster-csmc1p9pczxm.eu-west-1.neptune.amazonaws.com:8182/system -d \\\n",
    "'{ \"action\" : \"initiateDatabaseReset\" }' "
   ]
  },
  {
   "cell_type": "code",
   "execution_count": 86,
   "id": "be5aaf86-999a-4a47-ac66-8425a92fea8c",
   "metadata": {},
   "outputs": [
    {
     "name": "stdout",
     "output_type": "stream",
     "text": [
      "{\n",
      "    \"status\" : \"200 OK\"\n",
      "}"
     ]
    }
   ],
   "source": [
    "!curl -X POST -H 'Content-Type: application/json' -k https://toms-neptune-test.cluster-csmc1p9pczxm.eu-west-1.neptune.amazonaws.com:8182/system -d \\\n",
    "'{ \"action\" : \"performDatabaseReset\",  \"token\" : \"aac2f207-2d82-da7a-c0a6-3c28372b585b\"}' "
   ]
  },
  {
   "cell_type": "code",
   "execution_count": 119,
   "id": "b0dc0e40-aa2f-4f7c-99c7-b1e4978b1db3",
   "metadata": {},
   "outputs": [
    {
     "name": "stdout",
     "output_type": "stream",
     "text": [
      "{\n",
      "    \"status\" : \"200 OK\",\n",
      "    \"payload\" : {\n",
      "        \"feedCount\" : [\n",
      "            {\n",
      "                \"LOAD_FAILED\" : 1\n",
      "            }\n",
      "        ],\n",
      "        \"overallStatus\" : {\n",
      "            \"fullUri\" : \"s3://toms-neptune-tests/auction.csv\",\n",
      "            \"runNumber\" : 1,\n",
      "            \"retryNumber\" : 6,\n",
      "            \"status\" : \"LOAD_FAILED\",\n",
      "            \"totalTimeSpent\" : 10,\n",
      "            \"startTime\" : 1674581752,\n",
      "            \"totalRecords\" : 85448,\n",
      "            \"totalDuplicates\" : 0,\n",
      "            \"parsingErrors\" : 0,\n",
      "            \"datatypeMismatchErrors\" : 0,\n",
      "            \"insertErrors\" : 85448\n",
      "        },\n",
      "        \"failedFeeds\" : [\n",
      "            {\n",
      "                \"fullUri\" : \"s3://toms-neptune-tests/auction.csv\",\n",
      "                \"runNumber\" : 1,\n",
      "                \"retryNumber\" : 6,\n",
      "                \"status\" : \"LOAD_FAILED\",\n",
      "                \"totalTimeSpent\" : 7,\n",
      "                \"startTime\" : 1674581755,\n",
      "                \"totalRecords\" : 85448,\n",
      "                \"totalDuplicates\" : 0,\n",
      "                \"parsingErrors\" : 0,\n",
      "                \"datatypeMismatchErrors\" : 0,\n",
      "                \"insertErrors\" : 85448\n",
      "            }\n",
      "        ],\n",
      "        \"errors\" : {\n",
      "            \"startIndex\" : 1,\n",
      "            \"endIndex\" : 10,\n",
      "            \"loadId\" : \"9d740193-62bf-4333-bd8f-601d18441ff4\",\n",
      "            \"errorLogs\" : [\n",
      "                {\n",
      "                    \"errorCode\" : \"FROM_OR_TO_VERTEX_ARE_MISSING\",\n",
      "                    \"errorMessage\" : \"Either from vertex, 'tom', or to vertex, 'melfaria', is not present.\",\n",
      "                    \"fileName\" : \"s3://toms-neptune-tests/auction.csv\",\n",
      "                    \"recordNum\" : 0\n",
      "                },\n",
      "                {\n",
      "                    \"errorCode\" : \"FROM_OR_TO_VERTEX_ARE_MISSING\",\n",
      "                    \"errorMessage\" : \"Either from vertex, 'tom', or to vertex, 'schadenfreud', is not present.\",\n",
      "                    \"fileName\" : \"s3://toms-neptune-tests/auction.csv\",\n",
      "                    \"recordNum\" : 0\n",
      "                },\n",
      "                {\n",
      "                    \"errorCode\" : \"FROM_OR_TO_VERTEX_ARE_MISSING\",\n",
      "                    \"errorMessage\" : \"Either from vertex, 'tom', or to vertex, 'bfalconb', is not present.\",\n",
      "                    \"fileName\" : \"s3://toms-neptune-tests/auction.csv\",\n",
      "                    \"recordNum\" : 0\n",
      "                },\n",
      "                {\n",
      "                    \"errorCode\" : \"FROM_OR_TO_VERTEX_ARE_MISSING\",\n",
      "                    \"errorMessage\" : \"Either from vertex, 'tom', or to vertex, 'princess-ginger', is not present.\",\n",
      "                    \"fileName\" : \"s3://toms-neptune-tests/auction.csv\",\n",
      "                    \"recordNum\" : 0\n",
      "                },\n",
      "                {\n",
      "                    \"errorCode\" : \"FROM_OR_TO_VERTEX_ARE_MISSING\",\n",
      "                    \"errorMessage\" : \"Either from vertex, 'tom', or to vertex, 'perpetualtime', is not present.\",\n",
      "                    \"fileName\" : \"s3://toms-neptune-tests/auction.csv\",\n",
      "                    \"recordNum\" : 0\n",
      "                },\n",
      "                {\n",
      "                    \"errorCode\" : \"FROM_OR_TO_VERTEX_ARE_MISSING\",\n",
      "                    \"errorMessage\" : \"Either from vertex, 'tom', or to vertex, 'alexwestla', is not present.\",\n",
      "                    \"fileName\" : \"s3://toms-neptune-tests/auction.csv\",\n",
      "                    \"recordNum\" : 0\n",
      "                },\n",
      "                {\n",
      "                    \"errorCode\" : \"FROM_OR_TO_VERTEX_ARE_MISSING\",\n",
      "                    \"errorMessage\" : \"Either from vertex, 'tom', or to vertex, 'kasika5', is not present.\",\n",
      "                    \"fileName\" : \"s3://toms-neptune-tests/auction.csv\",\n",
      "                    \"recordNum\" : 0\n",
      "                },\n",
      "                {\n",
      "                    \"errorCode\" : \"FROM_OR_TO_VERTEX_ARE_MISSING\",\n",
      "                    \"errorMessage\" : \"Either from vertex, 'tom', or to vertex, 'mdhallin', is not present.\",\n",
      "                    \"fileName\" : \"s3://toms-neptune-tests/auction.csv\",\n",
      "                    \"recordNum\" : 0\n",
      "                },\n",
      "                {\n",
      "                    \"errorCode\" : \"FROM_OR_TO_VERTEX_ARE_MISSING\",\n",
      "                    \"errorMessage\" : \"Either from vertex, 'tom', or to vertex, 'jimboysan', is not present.\",\n",
      "                    \"fileName\" : \"s3://toms-neptune-tests/auction.csv\",\n",
      "                    \"recordNum\" : 0\n",
      "                },\n",
      "                {\n",
      "                    \"errorCode\" : \"FROM_OR_TO_VERTEX_ARE_MISSING\",\n",
      "                    \"errorMessage\" : \"Either from vertex, 'tom', or to vertex, '2gd4u', is not present.\",\n",
      "                    \"fileName\" : \"s3://toms-neptune-tests/auction.csv\",\n",
      "                    \"recordNum\" : 0\n",
      "                }\n",
      "            ]\n",
      "        }\n",
      "    }\n",
      "}"
     ]
    }
   ],
   "source": [
    "!curl -X GET 'https://toms-neptune-test.cluster-csmc1p9pczxm.eu-west-1.neptune.amazonaws.com:8182/loader/9d740193-62bf-4333-bd8f-601d18441ff4?details=true&errors=true'"
   ]
  },
  {
   "cell_type": "code",
   "execution_count": 88,
   "id": "206d9a92-e330-49e5-8570-b21351950250",
   "metadata": {},
   "outputs": [
    {
     "data": {
      "application/vnd.jupyter.widget-view+json": {
       "model_id": "e9632eb297d3411aa3983d9c35aad9fc",
       "version_major": 2,
       "version_minor": 0
      },
      "text/plain": [
       "Tab(children=(Output(layout=Layout(overflow='scroll')),), _titles={'0': 'Error'})"
      ]
     },
     "metadata": {},
     "output_type": "display_data"
    }
   ],
   "source": [
    "%%gremlin\n",
    "g.V(\"16\").bothE().where(otherV().hasId(\"53\")).path()"
   ]
  },
  {
   "cell_type": "code",
   "execution_count": 80,
   "id": "b584ea49-3d82-4b6f-ba42-bbc4e3626e28",
   "metadata": {},
   "outputs": [
    {
     "data": {
      "application/vnd.jupyter.widget-view+json": {
       "model_id": "72b9dfdbe69e4a3893f65d7857ec91d3",
       "version_major": 2,
       "version_minor": 0
      },
      "text/plain": [
       "Tab(children=(Output(layout=Layout(max_height='600px', max_width='940px', overflow='scroll')), Force(network=<…"
      ]
     },
     "metadata": {},
     "output_type": "display_data"
    }
   ],
   "source": [
    "%%gremlin\n",
    "g.V(\"bdoocean@aol.com\").path()"
   ]
  },
  {
   "cell_type": "code",
   "execution_count": 82,
   "id": "b304c31d-3f0d-4377-986e-53d49123e0fd",
   "metadata": {},
   "outputs": [
    {
     "name": "stdout",
     "output_type": "stream",
     "text": [
      "curl: (6) Could not resolve host: toms-neptune-tests\n"
     ]
    }
   ],
   "source": [
    "!curl -X POST \\\n",
    "-H 'Content-Type: application/json' http://toms-neptune-tests:8182/system \\\n",
    "-d '{ \"action\" : \"initiateDatabaseReset\" }'"
   ]
  },
  {
   "cell_type": "code",
   "execution_count": 118,
   "id": "cd45c2ff-df6c-427a-8be8-fd024bae21ad",
   "metadata": {},
   "outputs": [
    {
     "data": {
      "application/vnd.jupyter.widget-view+json": {
       "model_id": "88b27da85c144e1fbbe5f438676c51a7",
       "version_major": 2,
       "version_minor": 0
      },
      "text/plain": [
       "Tab(children=(Output(layout=Layout(max_height='600px', max_width='940px', overflow='scroll')), Output(layout=L…"
      ]
     },
     "metadata": {},
     "output_type": "display_data"
    }
   ],
   "source": [
    "%%gremlin\n",
    "g.V().hasLabel('auction').path()"
   ]
  },
  {
   "cell_type": "code",
   "execution_count": 51,
   "id": "78db090e-fb82-494b-9c82-c986d0c93e93",
   "metadata": {},
   "outputs": [
    {
     "data": {
      "application/vnd.jupyter.widget-view+json": {
       "model_id": "ad859f4bbcc04774ab35bd16422331e3",
       "version_major": 2,
       "version_minor": 0
      },
      "text/plain": [
       "Tab(children=(Output(layout=Layout(overflow='scroll')),), _titles={'0': 'Error'})"
      ]
     },
     "metadata": {},
     "output_type": "display_data"
    }
   ],
   "source": [
    "%%gremlin\n",
    "\n",
    "graph.traversal()"
   ]
  },
  {
   "cell_type": "code",
   "execution_count": 38,
   "id": "bb879fb2-e22a-4b4a-8809-4f989e3f1623",
   "metadata": {},
   "outputs": [],
   "source": [
    "%%graph_notebook_vis_options\n",
    "\n",
    "{\n",
    "  \"groups\": {\n",
    "    \"Account\": {\n",
    "      \"shape\": \"icon\",\n",
    "      \"icon\": {\n",
    "        \"face\": \"FontAwesome\",\n",
    "        \"code\": \"\\uf2bb\",\n",
    "        \"color\": \"red\"\n",
    "      }\n",
    "    },\n",
    "    \"Transaction\": {\n",
    "      \"shape\": \"icon\",\n",
    "      \"icon\": {\n",
    "        \"face\": \"FontAwesome\",\n",
    "        \"code\": \"\\uf155\",\n",
    "        \"color\": \"green\"\n",
    "      }\n",
    "    },\n",
    "    \"Merchant\": {\n",
    "      \"shape\": \"icon\",\n",
    "      \"icon\": {\n",
    "        \"face\": \"FontAwesome\",\n",
    "        \"code\": \"\\uf290\",\n",
    "        \"color\": \"orange\"\n",
    "      }\n",
    "    },\n",
    "    \"DateOfBirth\": {\n",
    "      \"shape\": \"icon\",\n",
    "      \"icon\": {\n",
    "        \"face\": \"FontAwesome\",\n",
    "        \"code\": \"\\uf1fd\",\n",
    "        \"color\": \"blue\"\n",
    "      }\n",
    "    },\n",
    "    \"EmailAddress\": {\n",
    "      \"shape\": \"icon\",\n",
    "      \"icon\": {\n",
    "        \"face\": \"FontAwesome\",\n",
    "        \"code\": \"\\uf1fa\",\n",
    "        \"color\": \"blue\"\n",
    "      }\n",
    "    },\n",
    "    \"Address\": {\n",
    "      \"shape\": \"icon\",\n",
    "      \"icon\": {\n",
    "        \"face\": \"FontAwesome\",\n",
    "        \"code\": \"\\uf015\",\n",
    "        \"color\": \"blue\"\n",
    "      }\n",
    "    },\n",
    "    \"IpAddress\": {\n",
    "      \"shape\": \"icon\",\n",
    "      \"icon\": {\n",
    "        \"face\": \"FontAwesome\",\n",
    "        \"code\": \"\\uf109\",\n",
    "        \"color\": \"blue\"\n",
    "      }\n",
    "    },\n",
    "    \"PhoneNumber\": {\n",
    "      \"shape\": \"icon\",\n",
    "      \"icon\": {\n",
    "        \"face\": \"FontAwesome\",\n",
    "        \"code\": \"\\uf095\",\n",
    "        \"color\": \"blue\"\n",
    "      }\n",
    "    }\n",
    "  },\n",
    "  \"edges\": {\n",
    "    \"color\": {\n",
    "      \"inherit\": false\n",
    "    },\n",
    "    \"smooth\": {\n",
    "      \"enabled\": true,\n",
    "      \"type\": \"straightCross\"\n",
    "    },\n",
    "    \"arrows\": {\n",
    "      \"to\": {\n",
    "        \"enabled\": false,\n",
    "        \"type\": \"arrow\"\n",
    "      }\n",
    "    },\n",
    "    \"font\": {\n",
    "      \"face\": \"courier new\"\n",
    "    }\n",
    "  },\n",
    "  \"interaction\": {\n",
    "    \"hover\": true,\n",
    "    \"hoverConnectedEdges\": true,\n",
    "    \"selectConnectedEdges\": false\n",
    "  },\n",
    "  \"physics\": {\n",
    "    \"minVelocity\": 0.75,\n",
    "    \"barnesHut\": {\n",
    "      \"centralGravity\": 0.1,\n",
    "      \"gravitationalConstant\": -50450,\n",
    "      \"springLength\": 95,\n",
    "      \"springConstant\": 0.04,\n",
    "      \"damping\": 0.09,\n",
    "      \"avoidOverlap\": 0.1\n",
    "    },\n",
    "    \"solver\": \"barnesHut\",\n",
    "    \"enabled\": true,\n",
    "    \"adaptiveTimestep\": true,\n",
    "    \"stabilization\": {\n",
    "      \"enabled\": true,\n",
    "      \"iterations\": 1\n",
    "    }\n",
    "  }\n",
    "}"
   ]
  },
  {
   "cell_type": "code",
   "execution_count": null,
   "id": "2a37ef6c-ba66-4d9b-9bfb-7332d505387c",
   "metadata": {},
   "outputs": [],
   "source": [
    "%%gremlin -g type -p v,inV,outV\n",
    "\n",
    "g.V('account-4398046521820').\n",
    "  in('FEATURE_OF_ACCOUNT').\n",
    "  path().\n",
    "  by(\n",
    "      project('type', 'value').\n",
    "      by(label).\n",
    "      by(valueMap('id', 'label', 'bid', 'bidtime'))\n",
    "  )"
   ]
  }
 ],
 "metadata": {
  "kernelspec": {
   "display_name": "Python 3",
   "language": "python",
   "name": "python3"
  },
  "language_info": {
   "codemirror_mode": {
    "name": "ipython",
    "version": 3
   },
   "file_extension": ".py",
   "mimetype": "text/x-python",
   "name": "python",
   "nbconvert_exporter": "python",
   "pygments_lexer": "ipython3",
   "version": "3.7.12"
  }
 },
 "nbformat": 4,
 "nbformat_minor": 5
}
