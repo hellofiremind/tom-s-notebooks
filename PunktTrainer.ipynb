{
 "cells": [
  {
   "cell_type": "markdown",
   "id": "e2bc2779-4b35-40c5-89b5-75712d85842c",
   "metadata": {},
   "source": [
    "PunktTrainer learns parameters such as a list of abbreviations (without supervision) from portions of text. Using a PunktTrainer directly allows for incremental training and modification of the hyper-parameters used to decide what is considered an abbreviation, etc."
   ]
  },
  {
   "cell_type": "code",
   "execution_count": 1,
   "id": "0888ee70-17d3-4416-aae2-04cef2673ff9",
   "metadata": {},
   "outputs": [],
   "source": [
    "import pickle\n",
    "import nltk\n",
    "from nltk.tokenize.punkt import PunktTrainer\n",
    "\n",
    "# Load your corpus\n",
    "with open('all_data.json', 'r') as f:\n",
    "    corpus = f.read()\n",
    "\n",
    "# Create a new instance of PunktTrainer\n",
    "trainer = PunktTrainer()\n",
    "\n",
    "# Train the trainer on your corpus\n",
    "trainer.train(corpus)\n",
    "\n",
    "# Serialize the trained model using pickle and save to disk\n",
    "with open('my_sentence_boundary_detector.punkt', 'wb') as f:\n",
    "    pickle.dump(trainer, f)"
   ]
  },
  {
   "cell_type": "code",
   "execution_count": 13,
   "id": "79f5163d-5655-4ed8-ba25-a0d1e9a85fec",
   "metadata": {},
   "outputs": [
    {
     "name": "stdout",
     "output_type": "stream",
     "text": [
      "['\\nTitle 40: Protection of Environment PART 180-TOLERANCES AND EXEMPTIONS FOR PESTICIDE CHEMICAL RESIDUES IN FOOD Subpart C-Specific Tolerances $180.466 Fenpropathrin; tolerances for residues.', '(a) General.', 'Tolerances are established for residues of fenpropathrin including its metabolites and degradates in or on the commodities in the following table.', 'Compliance with the tolerance levels specified below is to be determined by measuring only fenpropathrin (alpha-cyano-3-phenoxy-benzyl 2233 tetramethylcyclopropanecarboxylate).', '1There are no U.S. registrations as of November 28 2012 for the use of fenpropathrin on tea dried.', '(b) Section 18 emergency exemptions.', 'Time-limited tolerances specified in Table 2 to this paragraph (b) are established for residues of fenpropathrin (alpha-cyano-3-phenoxy- benzyl 2233 tetramethylcyclopropane carboxylate) in or on the specified agricultural commodities resulting from use of the pesticide pursuant to FIFRA section 18 emergency exemptions.', 'The tolerance expires on the date specified in Table 2.', 'TABLE 2 TO PARAGRAPH (b) (c) Tolerances with regional registrations.', '[Reserved] (d) Indirect or inadvertent residues.', '[Reserved] [62 FR 63034 Nov. 26 1997 as amended at 63 FR 48116 Sept. 9 1998; 64 FR 3009 Jan. 20 1999; 65 FR 11242 Mar. 2 2000; 65 FR 24397 Apr. 26 2000; 65 FR 48620 Aug. 9 2000; 66 FR 64774 Dec. 14 2001; 67 FR 35049 May 17 2002; 70 FR 38789 July 6 2005; 70 FR 55747 Sept. 23 2005; 74 FR 12606 Mar. 25 2009; 77 FR 70908 Nov. 28 2012; 78 FR 69569 Nov. 20 2013; 84 FR 70434 Dec. 23 2019]']\n"
     ]
    }
   ],
   "source": [
    "# Load the trained model from disk using pickle\n",
    "with open('my_sentence_boundary_detector.punkt', 'rb') as f:\n",
    "    trainer = pickle.load(f)\n",
    "\n",
    "# Create a new instance of PunktSentenceTokenizer using the trained model\n",
    "tokenizer = nltk.tokenize.PunktSentenceTokenizer(trainer.get_params())\n",
    "\n",
    "# Tokenize some text (text_1052.txt) using the new tokenizer\n",
    "text = '''\n",
    "Title 40: Protection of Environment PART 180-TOLERANCES AND EXEMPTIONS FOR PESTICIDE CHEMICAL RESIDUES IN FOOD Subpart C-Specific Tolerances $180.466 Fenpropathrin; tolerances for residues. (a) General. Tolerances are established for residues of fenpropathrin, including its metabolites and degradates, in or on the commodities in the following table. Compliance with the tolerance levels specified below is to be determined by measuring only fenpropathrin (alpha-cyano-3-phenoxy-benzyl 2,2,3,3 tetramethylcyclopropanecarboxylate). 1There are no U.S. registrations as of November 28, 2012, for the use of fenpropathrin on tea, dried. (b) Section 18 emergency exemptions. Time-limited tolerances specified in Table 2 to this paragraph (b) are established for residues of fenpropathrin, (alpha-cyano-3-phenoxy- benzyl 2,2,3,3 tetramethylcyclopropane carboxylate) in or on the specified agricultural commodities, resulting from use of the pesticide pursuant to FIFRA section 18 emergency exemptions. The tolerance expires on the date specified in Table 2. TABLE 2 TO PARAGRAPH (b) (c) Tolerances with regional registrations. [Reserved] (d) Indirect or inadvertent residues. [Reserved] [62 FR 63034, Nov. 26, 1997, as amended at 63 FR 48116, Sept. 9, 1998; 64 FR 3009, Jan. 20, 1999; 65 FR 11242, Mar. 2, 2000; 65 FR 24397, Apr. 26, 2000; 65 FR 48620, Aug. 9, 2000; 66 FR 64774, Dec. 14, 2001; 67 FR 35049, May 17, 2002; 70 FR 38789, July 6, 2005; 70 FR 55747, Sept. 23, 2005; 74 FR 12606, Mar. 25, 2009; 77 FR 70908, Nov. 28, 2012; 78 FR 69569, Nov. 20, 2013; 84 FR 70434, Dec. 23, 2019]\n",
    "'''\n",
    "# Remove all commas\n",
    "text = text.replace(\",\", \"\")\n",
    "\n",
    "sentences = tokenizer.tokenize(text)\n",
    "print(sentences)"
   ]
  },
  {
   "cell_type": "code",
   "execution_count": 14,
   "id": "cec5285c-f065-456a-9b97-7983a9e29366",
   "metadata": {},
   "outputs": [
    {
     "name": "stdout",
     "output_type": "stream",
     "text": [
      "\n",
      "Title 40: Protection of Environment PART 180-TOLERANCES AND EXEMPTIONS FOR PESTICIDE CHEMICAL RESIDUES IN FOOD Subpart C-Specific Tolerances $180.466 Fenpropathrin; tolerances for residues.\n",
      "-----\n",
      "(a) General.\n",
      "-----\n",
      "Tolerances are established for residues of fenpropathrin including its metabolites and degradates in or on the commodities in the following table.\n",
      "-----\n",
      "Compliance with the tolerance levels specified below is to be determined by measuring only fenpropathrin (alpha-cyano-3-phenoxy-benzyl 2233 tetramethylcyclopropanecarboxylate).\n",
      "-----\n",
      "1There are no U.S. registrations as of November 28 2012 for the use of fenpropathrin on tea dried.\n",
      "-----\n",
      "(b) Section 18 emergency exemptions.\n",
      "-----\n",
      "Time-limited tolerances specified in Table 2 to this paragraph (b) are established for residues of fenpropathrin (alpha-cyano-3-phenoxy- benzyl 2233 tetramethylcyclopropane carboxylate) in or on the specified agricultural commodities resulting from use of the pesticide pursuant to FIFRA section 18 emergency exemptions.\n",
      "-----\n",
      "The tolerance expires on the date specified in Table 2.\n",
      "-----\n",
      "TABLE 2 TO PARAGRAPH (b) (c) Tolerances with regional registrations.\n",
      "-----\n",
      "[Reserved] (d) Indirect or inadvertent residues.\n",
      "-----\n",
      "[Reserved] [62 FR 63034 Nov. 26 1997 as amended at 63 FR 48116 Sept. 9 1998; 64 FR 3009 Jan. 20 1999; 65 FR 11242 Mar. 2 2000; 65 FR 24397 Apr. 26 2000; 65 FR 48620 Aug. 9 2000; 66 FR 64774 Dec. 14 2001; 67 FR 35049 May 17 2002; 70 FR 38789 July 6 2005; 70 FR 55747 Sept. 23 2005; 74 FR 12606 Mar. 25 2009; 77 FR 70908 Nov. 28 2012; 78 FR 69569 Nov. 20 2013; 84 FR 70434 Dec. 23 2019]\n"
     ]
    }
   ],
   "source": [
    "# Concatenate the sentences into a single string\n",
    "text = \", \".join(sentences)\n",
    "\n",
    "# Replace commas with newlines\n",
    "text = text.replace(\", \", \"\\n-----\\n\")\n",
    "\n",
    "# Print the modified text\n",
    "print(text)"
   ]
  }
 ],
 "metadata": {
  "kernelspec": {
   "display_name": "Python 3 (ipykernel)",
   "language": "python",
   "name": "python3"
  },
  "language_info": {
   "codemirror_mode": {
    "name": "ipython",
    "version": 3
   },
   "file_extension": ".py",
   "mimetype": "text/x-python",
   "name": "python",
   "nbconvert_exporter": "python",
   "pygments_lexer": "ipython3",
   "version": "3.9.13"
  }
 },
 "nbformat": 4,
 "nbformat_minor": 5
}
