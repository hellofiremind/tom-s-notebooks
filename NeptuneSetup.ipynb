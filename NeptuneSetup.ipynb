{
 "cells": [
  {
   "cell_type": "markdown",
   "id": "9d5d6765-494f-4b81-95bb-920804b65412",
   "metadata": {},
   "source": [
    "### 1. Neptune bulk loader\n",
    "\n",
    "From a command line window, enter the following curl command to run the Neptune bulk loader. The key parameters that need to be modified are:\n",
    "- `your-neptune-endpoint:port`\n",
    "- `source`\n",
    "- `format`\n",
    "- `iamRoleArn`\n",
    "- `region`\n",
    "\n",
    "Modifying the other five parameters is optional. For more details, please see: https://docs.aws.amazon.com/neptune/latest/userguide/bulk-load-data.html"
   ]
  },
  {
   "cell_type": "markdown",
   "id": "3d5e703a-1a5f-4e99-95c9-d2cc01a5d0ae",
   "metadata": {},
   "source": [
    "!curl -X POST \\\n",
    "    -H 'Content-Type: application/json' \\\n",
    "    https://your-neptune-endpoint:port/loader -d '\n",
    "    {\n",
    "      \"source\" : \"s3://bucket-name/object-key-name\",\n",
    "      \"format\" : \"format\",\n",
    "      \"iamRoleArn\" : \"arn:aws:iam::account-id:role/role-name\",\n",
    "      \"region\" : \"region\",\n",
    "      \"failOnError\" : \"FALSE\",\n",
    "      \"parallelism\" : \"MEDIUM\",\n",
    "      \"updateSingleCardinalityProperties\" : \"FALSE\",\n",
    "      \"queueRequest\" : \"TRUE\",\n",
    "      \"dependencies\" : [\"load_A_id\", \"load_B_id\"]\n",
    "    }'"
   ]
  },
  {
   "cell_type": "markdown",
   "id": "1df950a8-7171-482b-a0c3-9f3217a4efc5",
   "metadata": {},
   "source": [
    "The above command will give the following output:\n",
    "```\n",
    "{\n",
    "    \"status\" : \"200 OK\",\n",
    "    \"payload\" : {\n",
    "        \"loadId\" : \"unique-ID\"\n",
    "    }\n",
    "}\n",
    "```"
   ]
  },
  {
   "cell_type": "markdown",
   "id": "12715b2e-4a41-4966-8cf4-81a0a2d90cd9",
   "metadata": {},
   "source": [
    "### 2. Get-Status request\n",
    "\n",
    "Next, enter your `loadID` to the following curl command to get the load status. It is worth also including `details=true` and `errors=true` to the command to get a more detailed diagnosis (if there are errors).\n",
    "\n",
    "*Note*: the `loadID` must be separated from the `details=true` and `errors=true` by a `?`\n",
    "\n",
    "For more details, please see: https://docs.aws.amazon.com/neptune/latest/userguide/load-api-reference-status-requests.html#load-api-reference-status-request-syntax"
   ]
  },
  {
   "cell_type": "code",
   "execution_count": null,
   "id": "603477e5-1764-4583-af97-3280e1913507",
   "metadata": {},
   "outputs": [],
   "source": [
    "!curl -X GET https://your-neptune-endpoint:port/loader/loadId\n",
    "\n",
    "# Include ?details=true&errors=true\n",
    "!curl -X GET https://your-neptune-endpoint:port/loader/loadId?details=true&errors=true"
   ]
  },
  {
   "cell_type": "markdown",
   "id": "9e7fa12c-dac6-4273-9ef2-7ac155e0a152",
   "metadata": {},
   "source": [
    "If the loader returns `\"LOAD_COMPLETED\" : 1`, then queries can be performed. Otherwise, the errors need to be diagnosed. "
   ]
  },
  {
   "cell_type": "markdown",
   "id": "e76f808b-4c7a-43d6-9d90-7565c8ab881f",
   "metadata": {},
   "source": [
    "### 3. Gremlin querying\n",
    "\n",
    "Gremlin queries need to be initiated with cell magic. Perform this by running `%%gremlin` at the start of each cell, before your query.\n",
    "\n",
    "In order to query a vertex file, initiate the query with `g.V()`; and to query an edge file, initiate the query with `g.E()`.\n",
    "\n",
    "For more detail on Gremlin, please refer to the documentation: https://tinkerpop.apache.org/docs/current/reference/\n",
    "\n",
    "Below are some example queries:"
   ]
  },
  {
   "cell_type": "code",
   "execution_count": null,
   "id": "1b85bf56-96f8-490b-892d-c030355bf819",
   "metadata": {},
   "outputs": [],
   "source": [
    "# Find all vertices with a certain label\n",
    "g.V().hasLabel('person')"
   ]
  },
  {
   "cell_type": "code",
   "execution_count": null,
   "id": "e25c9d10-2259-4452-a9ee-a5bfe745e499",
   "metadata": {},
   "outputs": [],
   "source": [
    "# Find all vertices connected to a specific vertex\n",
    "g.V().has('person', 'name', 'John').out()"
   ]
  },
  {
   "cell_type": "code",
   "execution_count": null,
   "id": "a555f288-2f07-4201-9c94-ccfc618358eb",
   "metadata": {},
   "outputs": [],
   "source": [
    "# Filter vertices based on a property value\n",
    "g.V().hasLabel('person').has('age', gt(30))"
   ]
  },
  {
   "cell_type": "code",
   "execution_count": null,
   "id": "0fc92846-2408-4d92-84f6-6e335e358e7c",
   "metadata": {},
   "outputs": [],
   "source": [
    "# Find the shortest path between two vertices\n",
    "g.V().has('person', 'name', 'John').repeat(out()).until(has('person', 'name', 'Jane')).path()"
   ]
  },
  {
   "cell_type": "code",
   "execution_count": null,
   "id": "4a025413-d880-4742-bdbc-e7d1ee01e521",
   "metadata": {},
   "outputs": [],
   "source": [
    "# Group vertices by a property value\n",
    "g.V().hasLabel('person').group().by('gender')"
   ]
  },
  {
   "cell_type": "code",
   "execution_count": null,
   "id": "51adf1d8-f45e-40aa-a9dc-a2f4ed64b144",
   "metadata": {},
   "outputs": [],
   "source": [
    "# Count the number of vertices with a certain label\n",
    "g.V().hasLabel('person').count()"
   ]
  },
  {
   "cell_type": "code",
   "execution_count": null,
   "id": "9b0714d4-2636-4a68-91da-a44bdccc3e0d",
   "metadata": {},
   "outputs": [],
   "source": [
    "# Sum the values of a property for a group of vertices\n",
    "g.V().hasLabel('person').values('age').sum()"
   ]
  }
 ],
 "metadata": {
  "kernelspec": {
   "display_name": "Python 3",
   "language": "python",
   "name": "python3"
  },
  "language_info": {
   "codemirror_mode": {
    "name": "ipython",
    "version": 3
   },
   "file_extension": ".py",
   "mimetype": "text/x-python",
   "name": "python",
   "nbconvert_exporter": "python",
   "pygments_lexer": "ipython3",
   "version": "3.7.12"
  }
 },
 "nbformat": 4,
 "nbformat_minor": 5
}
