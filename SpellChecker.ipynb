{
 "cells": [
  {
   "cell_type": "code",
   "execution_count": 4,
   "id": "ac7d21ff-7ed2-48ab-986c-65c17e165578",
   "metadata": {},
   "outputs": [
    {
     "name": "stdout",
     "output_type": "stream",
     "text": [
      "Input word: b2\n",
      "Corrected word: a2\n"
     ]
    }
   ],
   "source": [
    "from nltk.metrics.distance import edit_distance\n",
    "\n",
    "# define a list of correct words\n",
    "correct_words = ['a1', 'a2', 'a3', 'a4', 'a5', 'a6', 'a7', 'a8', 'a9', 'a10']\n",
    "\n",
    "def spell_check(word):\n",
    "    # check if the word is in the list of correct words\n",
    "    if word in correct_words:\n",
    "        return word\n",
    "\n",
    "    # if not, find the closest match using Levenshtein distance\n",
    "    closest_word = min(correct_words, key=lambda x: edit_distance(word, x))\n",
    "    \n",
    "    return closest_word\n",
    "\n",
    "# test the spell checker\n",
    "input_word = 'b2'\n",
    "corrected_word = spell_check(input_word)\n",
    "\n",
    "print('Input word:', input_word)\n",
    "print('Corrected word:', corrected_word)"
   ]
  },
  {
   "cell_type": "code",
   "execution_count": null,
   "id": "48145132-ab32-4a34-9ef0-300d1a764976",
   "metadata": {},
   "outputs": [],
   "source": []
  }
 ],
 "metadata": {
  "kernelspec": {
   "display_name": "Python 3 (ipykernel)",
   "language": "python",
   "name": "python3"
  },
  "language_info": {
   "codemirror_mode": {
    "name": "ipython",
    "version": 3
   },
   "file_extension": ".py",
   "mimetype": "text/x-python",
   "name": "python",
   "nbconvert_exporter": "python",
   "pygments_lexer": "ipython3",
   "version": "3.9.13"
  }
 },
 "nbformat": 4,
 "nbformat_minor": 5
}
